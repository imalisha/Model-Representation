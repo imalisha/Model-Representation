{
 "cells": [
  {
   "cell_type": "markdown",
   "id": "76d1bfdf",
   "metadata": {},
   "source": [
    "# Optional Lab: Model Representation"
   ]
  },
  {
   "cell_type": "code",
   "execution_count": null,
   "id": "677b7e2a",
   "metadata": {},
   "outputs": [],
   "source": []
  },
  {
   "cell_type": "markdown",
   "id": "7d62352b",
   "metadata": {},
   "source": [
    "# Goals"
   ]
  },
  {
   "cell_type": "code",
   "execution_count": null,
   "id": "ac2d30d0",
   "metadata": {},
   "outputs": [],
   "source": [
    "In this lab you will:\n",
    "Learn to implement the model fw, b\n",
    "for linear regression with one variable"
   ]
  },
  {
   "cell_type": "markdown",
   "id": "a0c567fa",
   "metadata": {},
   "source": [
    "# Notation"
   ]
  },
  {
   "cell_type": "code",
   "execution_count": null,
   "id": "30d4b841",
   "metadata": {},
   "outputs": [],
   "source": [
    "Here is a summary of some of the notation you will encounter."
   ]
  },
  {
   "cell_type": "code",
   "execution_count": null,
   "id": "a60475fa",
   "metadata": {},
   "outputs": [],
   "source": [
    "General\n",
    "Notation\n",
    "Description Python (if applicable)\n",
    "a scalar, non bold\n",
    "a vector, bold\n",
    "Regression\n",
    "x\n",
    "Training Example feature values (in this lab - Size (1000\n",
    "sqft))\n",
    "x_train\n",
    "y Training Example targets (in this lab Price (1000s of dollars)) y_train\n",
    "x\n",
    "(i)\n",
    ", y\n",
    "(i)\n",
    "i\n",
    "th\n",
    "Training Example\n",
    "x_i , y_i\n",
    "m Number of training examples m\n",
    "w parameter: weight w\n",
    "b parameter: bias b\n",
    "fw,b\n",
    "(x\n",
    "(i)\n",
    ")\n",
    "The result of the model evaluation at x\n",
    "(i)\n",
    "parameterized by w, b\n",
    ": fw,b\n",
    "(x\n",
    "(i)\n",
    ") = wx\n",
    "(i) + b\n",
    "f_wb\n"
   ]
  },
  {
   "cell_type": "markdown",
   "id": "01621f05",
   "metadata": {},
   "source": [
    "# Tools"
   ]
  },
  {
   "cell_type": "code",
   "execution_count": null,
   "id": "8f106cc3",
   "metadata": {},
   "outputs": [],
   "source": [
    "In this lab you will make use of:\n",
    "NumPy, a popular library for scientific computing\n",
    "Matplotlib, a popular library for plotting data"
   ]
  },
  {
   "cell_type": "code",
   "execution_count": 1,
   "id": "6c6e8ccf",
   "metadata": {},
   "outputs": [
    {
     "ename": "OSError",
     "evalue": "'./deeplearning.mplstyle' is not a valid package style, path of style file, URL of style file, or library style name (library styles are listed in `style.available`)",
     "output_type": "error",
     "traceback": [
      "\u001b[1;31m---------------------------------------------------------------------------\u001b[0m",
      "\u001b[1;31mFileNotFoundError\u001b[0m                         Traceback (most recent call last)",
      "File \u001b[1;32m~\\anaconda3\\Lib\\site-packages\\matplotlib\\style\\core.py:166\u001b[0m, in \u001b[0;36muse\u001b[1;34m(style)\u001b[0m\n\u001b[0;32m    165\u001b[0m \u001b[38;5;28;01mtry\u001b[39;00m:\n\u001b[1;32m--> 166\u001b[0m     style \u001b[38;5;241m=\u001b[39m _rc_params_in_file(style)\n\u001b[0;32m    167\u001b[0m \u001b[38;5;28;01mexcept\u001b[39;00m \u001b[38;5;167;01mIOError\u001b[39;00m \u001b[38;5;28;01mas\u001b[39;00m err:\n",
      "File \u001b[1;32m~\\anaconda3\\Lib\\site-packages\\matplotlib\\__init__.py:850\u001b[0m, in \u001b[0;36m_rc_params_in_file\u001b[1;34m(fname, transform, fail_on_error)\u001b[0m\n\u001b[0;32m    849\u001b[0m rc_temp \u001b[38;5;241m=\u001b[39m {}\n\u001b[1;32m--> 850\u001b[0m \u001b[38;5;28;01mwith\u001b[39;00m _open_file_or_url(fname) \u001b[38;5;28;01mas\u001b[39;00m fd:\n\u001b[0;32m    851\u001b[0m     \u001b[38;5;28;01mtry\u001b[39;00m:\n",
      "File \u001b[1;32m~\\anaconda3\\Lib\\contextlib.py:137\u001b[0m, in \u001b[0;36m_GeneratorContextManager.__enter__\u001b[1;34m(self)\u001b[0m\n\u001b[0;32m    136\u001b[0m \u001b[38;5;28;01mtry\u001b[39;00m:\n\u001b[1;32m--> 137\u001b[0m     \u001b[38;5;28;01mreturn\u001b[39;00m \u001b[38;5;28mnext\u001b[39m(\u001b[38;5;28mself\u001b[39m\u001b[38;5;241m.\u001b[39mgen)\n\u001b[0;32m    138\u001b[0m \u001b[38;5;28;01mexcept\u001b[39;00m \u001b[38;5;167;01mStopIteration\u001b[39;00m:\n",
      "File \u001b[1;32m~\\anaconda3\\Lib\\site-packages\\matplotlib\\__init__.py:827\u001b[0m, in \u001b[0;36m_open_file_or_url\u001b[1;34m(fname)\u001b[0m\n\u001b[0;32m    826\u001b[0m fname \u001b[38;5;241m=\u001b[39m os\u001b[38;5;241m.\u001b[39mpath\u001b[38;5;241m.\u001b[39mexpanduser(fname)\n\u001b[1;32m--> 827\u001b[0m \u001b[38;5;28;01mwith\u001b[39;00m \u001b[38;5;28mopen\u001b[39m(fname, encoding\u001b[38;5;241m=\u001b[39m\u001b[38;5;124m'\u001b[39m\u001b[38;5;124mutf-8\u001b[39m\u001b[38;5;124m'\u001b[39m) \u001b[38;5;28;01mas\u001b[39;00m f:\n\u001b[0;32m    828\u001b[0m     \u001b[38;5;28;01myield\u001b[39;00m f\n",
      "\u001b[1;31mFileNotFoundError\u001b[0m: [Errno 2] No such file or directory: './deeplearning.mplstyle'",
      "\nThe above exception was the direct cause of the following exception:\n",
      "\u001b[1;31mOSError\u001b[0m                                   Traceback (most recent call last)",
      "Cell \u001b[1;32mIn[1], line 3\u001b[0m\n\u001b[0;32m      1\u001b[0m \u001b[38;5;28;01mimport\u001b[39;00m \u001b[38;5;21;01mnumpy\u001b[39;00m \u001b[38;5;28;01mas\u001b[39;00m \u001b[38;5;21;01mnp\u001b[39;00m\n\u001b[0;32m      2\u001b[0m \u001b[38;5;28;01mimport\u001b[39;00m \u001b[38;5;21;01mmatplotlib\u001b[39;00m\u001b[38;5;21;01m.\u001b[39;00m\u001b[38;5;21;01mpyplot\u001b[39;00m \u001b[38;5;28;01mas\u001b[39;00m \u001b[38;5;21;01mplt\u001b[39;00m\n\u001b[1;32m----> 3\u001b[0m plt\u001b[38;5;241m.\u001b[39mstyle\u001b[38;5;241m.\u001b[39muse(\u001b[38;5;124m'\u001b[39m\u001b[38;5;124m./deeplearning.mplstyle\u001b[39m\u001b[38;5;124m'\u001b[39m)\n",
      "File \u001b[1;32m~\\anaconda3\\Lib\\site-packages\\matplotlib\\style\\core.py:168\u001b[0m, in \u001b[0;36muse\u001b[1;34m(style)\u001b[0m\n\u001b[0;32m    166\u001b[0m         style \u001b[38;5;241m=\u001b[39m _rc_params_in_file(style)\n\u001b[0;32m    167\u001b[0m     \u001b[38;5;28;01mexcept\u001b[39;00m \u001b[38;5;167;01mIOError\u001b[39;00m \u001b[38;5;28;01mas\u001b[39;00m err:\n\u001b[1;32m--> 168\u001b[0m         \u001b[38;5;28;01mraise\u001b[39;00m \u001b[38;5;167;01mIOError\u001b[39;00m(\n\u001b[0;32m    169\u001b[0m             \u001b[38;5;124mf\u001b[39m\u001b[38;5;124m\"\u001b[39m\u001b[38;5;132;01m{\u001b[39;00mstyle\u001b[38;5;132;01m!r}\u001b[39;00m\u001b[38;5;124m is not a valid package style, path of style \u001b[39m\u001b[38;5;124m\"\u001b[39m\n\u001b[0;32m    170\u001b[0m             \u001b[38;5;124mf\u001b[39m\u001b[38;5;124m\"\u001b[39m\u001b[38;5;124mfile, URL of style file, or library style name (library \u001b[39m\u001b[38;5;124m\"\u001b[39m\n\u001b[0;32m    171\u001b[0m             \u001b[38;5;124mf\u001b[39m\u001b[38;5;124m\"\u001b[39m\u001b[38;5;124mstyles are listed in `style.available`)\u001b[39m\u001b[38;5;124m\"\u001b[39m) \u001b[38;5;28;01mfrom\u001b[39;00m \u001b[38;5;21;01merr\u001b[39;00m\n\u001b[0;32m    172\u001b[0m filtered \u001b[38;5;241m=\u001b[39m {}\n\u001b[0;32m    173\u001b[0m \u001b[38;5;28;01mfor\u001b[39;00m k \u001b[38;5;129;01min\u001b[39;00m style:  \u001b[38;5;66;03m# don't trigger RcParams.__getitem__('backend')\u001b[39;00m\n",
      "\u001b[1;31mOSError\u001b[0m: './deeplearning.mplstyle' is not a valid package style, path of style file, URL of style file, or library style name (library styles are listed in `style.available`)"
     ]
    }
   ],
   "source": [
    "import numpy as np\n",
    "import matplotlib.pyplot as plt\n",
    "plt.style.use('./deeplearning.mplstyle')\n"
   ]
  },
  {
   "cell_type": "markdown",
   "id": "e344b586",
   "metadata": {},
   "source": [
    "# Problem Statement"
   ]
  },
  {
   "cell_type": "code",
   "execution_count": null,
   "id": "ed52e552",
   "metadata": {},
   "outputs": [],
   "source": [
    "As in the lecture, you will use the motivating example of\n",
    "housing price prediction.\n",
    "This lab will use a simple data set with only two data points - a house with 1000 square feet(sqft) sold for\n",
    "$300,000 and a house with 2000 square feet sold for \\$500,000. These two points will constitute our data or\n",
    "training set. In this lab, the units of size are 1000 sqft and the units of price are 1000s of dollars.\n",
    "Size (1000 sqft) Price (1000s of dollars)\n",
    "1.0 300\n",
    "2.0 500\n",
    "You would like to fit a linear regression model (shown above as the blue straight line) through these two points,\n",
    "so you can then predict price for other houses - say, a house with 1200 sqft.\n",
    "Please run the following code cell to create your x_train and y_train variables. The data is stored in one\u0002dimensional NumPy arrays.\n"
   ]
  },
  {
   "cell_type": "code",
   "execution_count": 2,
   "id": "d05a9c8b",
   "metadata": {},
   "outputs": [
    {
     "name": "stdout",
     "output_type": "stream",
     "text": [
      "x_train = [1. 2.]\n",
      "y_train = [300. 500.]\n"
     ]
    }
   ],
   "source": [
    "# x_train is the input variable (size in 1000 square feet)\n",
    "# y_train is the target (price in 1000s of dollars)\n",
    "x_train = np.array([1.0, 2.0])\n",
    "y_train = np.array([300.0, 500.0])\n",
    "print(f\"x_train = {x_train}\")\n",
    "print(f\"y_train = {y_train}\")\n"
   ]
  },
  {
   "cell_type": "markdown",
   "id": "5a1df4ec",
   "metadata": {},
   "source": [
    "# Number of training examples m"
   ]
  },
  {
   "cell_type": "code",
   "execution_count": null,
   "id": "bb2b9efd",
   "metadata": {},
   "outputs": [],
   "source": [
    "You will use m to denote the number of training examples. Numpy arrays have a .shape parameter.\n",
    "x_train.shape returns a python tuple with an entry for each dimension. x_train.shape[0] is the length of\n",
    "the array and number of examples as shown below.\n"
   ]
  },
  {
   "cell_type": "code",
   "execution_count": 3,
   "id": "35dffa91",
   "metadata": {},
   "outputs": [
    {
     "name": "stdout",
     "output_type": "stream",
     "text": [
      "x_train.shape: (2,)\n",
      "Number of training examples is: 2\n"
     ]
    }
   ],
   "source": [
    "# m is the number of training examples\n",
    "print(f\"x_train.shape: {x_train.shape}\")\n",
    "m = x_train.shape[0]\n",
    "print(f\"Number of training examples is: {m}\")"
   ]
  },
  {
   "cell_type": "code",
   "execution_count": null,
   "id": "f8a96f8b",
   "metadata": {},
   "outputs": [],
   "source": [
    "One can also use the Python len() function as shown below."
   ]
  },
  {
   "cell_type": "code",
   "execution_count": 4,
   "id": "e8d42e54",
   "metadata": {},
   "outputs": [
    {
     "name": "stdout",
     "output_type": "stream",
     "text": [
      "Number of training examples is: 2\n"
     ]
    }
   ],
   "source": [
    "# m is the number of training examples\n",
    "m = len(x_train)\n",
    "print(f\"Number of training examples is: {m}\")\n"
   ]
  },
  {
   "cell_type": "code",
   "execution_count": null,
   "id": "e886ce5a",
   "metadata": {},
   "outputs": [],
   "source": [
    "Training example x_i, y_i\n",
    "You will use (x\n",
    "(i)\n",
    ", y\n",
    "(i)\n",
    ") to denote the i\n",
    "th\n",
    "training example. Since Python is zero indexed, (x\n",
    "(0)\n",
    ", y\n",
    "(0)\n",
    ") is (1.0, 300.0) and (x\n",
    "(1)\n",
    ", y\n",
    "(1)\n",
    ") is (2.0, 500.0).\n",
    "To access a value in a Numpy array, one indexes the array with the desired offset. For example the syntax to\n",
    "access location zero of x_train is x_train[0] . Run the next code block below to get the i\n",
    "th\n",
    "training example."
   ]
  },
  {
   "cell_type": "code",
   "execution_count": 5,
   "id": "ed4b46d7",
   "metadata": {},
   "outputs": [
    {
     "name": "stdout",
     "output_type": "stream",
     "text": [
      "(x^(0), y^(0)) = (1.0, 300.0)\n"
     ]
    }
   ],
   "source": [
    "i = 0 # Change this to 1 to see (x^1, y^1)\n",
    "x_i = x_train[i]\n",
    "y_i = y_train[i]\n",
    "print(f\"(x^({i}), y^({i})) = ({x_i}, {y_i})\")\n"
   ]
  },
  {
   "cell_type": "markdown",
   "id": "b2af5f3a",
   "metadata": {},
   "source": [
    "# Plotting the data"
   ]
  },
  {
   "cell_type": "code",
   "execution_count": null,
   "id": "3dd8db92",
   "metadata": {},
   "outputs": [],
   "source": [
    "You can plot these two points using the scatter() function in the matplotlib library, as shown in the cell\n",
    "below.\n",
    "The function arguments marker and c show the points as red crosses (the default is blue dots).\n",
    "You can use other functions in the matplotlib library to set the title and labels to display"
   ]
  },
  {
   "cell_type": "code",
   "execution_count": 6,
   "id": "95b1f6df",
   "metadata": {},
   "outputs": [
    {
     "data": {
      "image/png": "[encoded data removed]",
      "text/plain": [
       "<Figure size 640x480 with 1 Axes>"
      ]
     },
     "metadata": {},
     "output_type": "display_data"
    }
   ],
   "source": [
    "# Plot the data points\n",
    "plt.scatter(x_train, y_train, marker='x', c='r')\n",
    "# Set the title\n",
    "plt.title(\"Housing Prices\")\n",
    "# Set the y-axis label\n",
    "plt.ylabel('Price (in 1000s of dollars)')\n",
    "# Set the x-axis label\n",
    "plt.xlabel('Size (1000 sqft)')\n",
    "plt.show()"
   ]
  },
  {
   "cell_type": "markdown",
   "id": "eb68d5e5",
   "metadata": {},
   "source": [
    "# Model function"
   ]
  },
  {
   "cell_type": "code",
   "execution_count": null,
   "id": "5edc6b98",
   "metadata": {},
   "outputs": [],
   "source": [
    "As described in lecture, the model function for linear\n",
    "regression (which is a function that maps from x to y )\n",
    "is represented as\n",
    "fw, b\n",
    "(x\n",
    "(i)\n",
    ") = wx\n",
    "(i) + b\n",
    "The formula above is how you can represent straight lines - different values of w\n",
    "and b\n",
    "give you different straight lines on the plot.\n",
    "Let's try to get a better intuition for this through the code blocks below. Let's start with w = 100\n",
    "and b = 100"
   ]
  },
  {
   "cell_type": "code",
   "execution_count": 7,
   "id": "391c0353",
   "metadata": {},
   "outputs": [
    {
     "name": "stdout",
     "output_type": "stream",
     "text": [
      "w: 100\n",
      "b: 100\n"
     ]
    }
   ],
   "source": [
    "w = 100\n",
    "b = 100\n",
    "print(f\"w: {w}\")\n",
    "print(f\"b: {b}\")"
   ]
  },
  {
   "cell_type": "code",
   "execution_count": 8,
   "id": "f92d18b7",
   "metadata": {},
   "outputs": [
    {
     "ename": "IndentationError",
     "evalue": "expected an indented block after function definition on line 1 (1719483893.py, line 2)",
     "output_type": "error",
     "traceback": [
      "\u001b[1;36m  Cell \u001b[1;32mIn[8], line 2\u001b[1;36m\u001b[0m\n\u001b[1;33m    \"\"\"\u001b[0m\n\u001b[1;37m    ^\u001b[0m\n\u001b[1;31mIndentationError\u001b[0m\u001b[1;31m:\u001b[0m expected an indented block after function definition on line 1\n"
     ]
    }
   ],
   "source": [
    "def compute_model_output(x, w, b):\n",
    "\"\"\"\n",
    "Computes the prediction of a linear model\n",
    "Args:\n",
    "x (ndarray (m,)): Data, m examples\n",
    "w,b (scalar) : model parameters\n",
    "Returns\n",
    "y (ndarray (m,)): target values\n",
    "\"\"\"\n",
    "m = x.shape[0]\n",
    "f_wb = np.zeros(m)\n",
    "for i in range(m):\n",
    "f_wb[i] = w * x[i] + b\n",
    "return f_wb\n"
   ]
  },
  {
   "cell_type": "code",
   "execution_count": 9,
   "id": "9d35c5fd",
   "metadata": {},
   "outputs": [
    {
     "ename": "NameError",
     "evalue": "name 'compute_model_output' is not defined",
     "output_type": "error",
     "traceback": [
      "\u001b[1;31m---------------------------------------------------------------------------\u001b[0m",
      "\u001b[1;31mNameError\u001b[0m                                 Traceback (most recent call last)",
      "Cell \u001b[1;32mIn[9], line 1\u001b[0m\n\u001b[1;32m----> 1\u001b[0m tmp_f_wb \u001b[38;5;241m=\u001b[39m compute_model_output(x_train, w, b,)\n\u001b[0;32m      2\u001b[0m \u001b[38;5;66;03m# Plot our model prediction\u001b[39;00m\n\u001b[0;32m      3\u001b[0m plt\u001b[38;5;241m.\u001b[39mplot(x_train, tmp_f_wb, c\u001b[38;5;241m=\u001b[39m\u001b[38;5;124m'\u001b[39m\u001b[38;5;124mb\u001b[39m\u001b[38;5;124m'\u001b[39m,label\u001b[38;5;241m=\u001b[39m\u001b[38;5;124m'\u001b[39m\u001b[38;5;124mOur Prediction\u001b[39m\u001b[38;5;124m'\u001b[39m)\n",
      "\u001b[1;31mNameError\u001b[0m: name 'compute_model_output' is not defined"
     ]
    }
   ],
   "source": [
    "tmp_f_wb = compute_model_output(x_train, w, b,)\n",
    "# Plot our model prediction\n",
    "plt.plot(x_train, tmp_f_wb, c='b',label='Our Prediction')\n",
    "# Plot the data points\n",
    "plt.scatter(x_train, y_train, marker='x', c='r',label='Actual Values')\n",
    "# Set the title\n",
    "plt.title(\"Housing Prices\")\n",
    "# Set the y-axis label\n",
    "plt.ylabel('Price (in 1000s of dollars)')\n",
    "# Set the x-axis label\n",
    "plt.xlabel('Size (1000 sqft)')\n",
    "plt.legend()\n",
    "plt.show()\n"
   ]
  },
  {
   "cell_type": "markdown",
   "id": "95f416d2",
   "metadata": {},
   "source": [
    "# Prediction"
   ]
  },
  {
   "cell_type": "code",
   "execution_count": 10,
   "id": "d04803c2",
   "metadata": {},
   "outputs": [
    {
     "name": "stdout",
     "output_type": "stream",
     "text": [
      "$340 thousand dollars\n"
     ]
    }
   ],
   "source": [
    "w = 200\n",
    "b = 100\n",
    "x_i = 1.2\n",
    "cost_1200sqft = w * x_i + b\n",
    "print(f\"${cost_1200sqft:.0f} thousand dollars\")"
   ]
  },
  {
   "cell_type": "code",
   "execution_count": null,
   "id": "bc44ad03",
   "metadata": {},
   "outputs": [],
   "source": []
  }
 ],
 "metadata": {
  "kernelspec": {
   "display_name": "Python 3 (ipykernel)",
   "language": "python",
   "name": "python3"
  },
  "language_info": {
   "codemirror_mode": {
    "name": "ipython",
    "version": 3
   },
   "file_extension": ".py",
   "mimetype": "text/x-python",
   "name": "python",
   "nbconvert_exporter": "python",
   "pygments_lexer": "ipython3",
   "version": "3.11.4"
  }
 },
 "nbformat": 4,
 "nbformat_minor": 5
}
